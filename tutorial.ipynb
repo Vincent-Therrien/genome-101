{
 "cells": [
  {
   "cell_type": "markdown",
   "metadata": {},
   "source": [
    "# Whole Genome Sequencing 101\n",
    "\n",
    "This notebook goes through the main step of a whole genome sequencing (WGS) project. It presents:\n",
    "\n",
    "1. [**DNA Sequencing**](#part1) - obtain *reads* from DNA fragments.\n",
    "2. [**Genome Assembly**](#part2) - put together a *genome* from reads.\n",
    "    1. [**De Novo Assembly**](#part21) - assemble the genome from scratch\n",
    "    2. [**Reference-Based Assembly**](#part22) - assemble the genome by comparing it against a reference genome\n",
    "3. [**Genome Annotation**](#part3) - document the *functions* of the genome.\n",
    "\n",
    "**Remember**, this notebook is not a complete WGS tutorial! It only presents the key steps of WGS to\n",
    "demonstrate their algorithmic complexity. A real bioinformatics pipeline typically does not rely\n",
    "purely on a Python script but rather executes standalone programs. To learn how to do full WGS\n",
    "pipelines, please refer to:\n",
    "\n",
    "- https://pmc.ncbi.nlm.nih.gov/articles/PMC10646344/ for *de novo* WGS (i. e. use that when\n",
    "  studying an organism or strain with no reference genome)\n",
    "- https://bmcmedgenomics.biomedcentral.com/articles/10.1186/s12920-023-01495-x for *reference-based*\n",
    "  WSG (i.e. use that when you have a reference genome for your organism / strain)"
   ]
  },
  {
   "cell_type": "code",
   "execution_count": 364,
   "metadata": {},
   "outputs": [],
   "source": [
    "# Run this line to ensure that your environment is properly configured.\n",
    "from random import choice, randint, shuffle\n",
    "import time\n",
    "import numpy as np\n",
    "import matplotlib.pyplot as plt\n",
    "import rustworkx as rx\n",
    "from rustworkx.visualization import mpl_draw"
   ]
  },
  {
   "cell_type": "markdown",
   "metadata": {},
   "source": [
    "<a id='part1'></a>\n",
    "\n",
    "## 1. DNA Sequencing\n",
    "\n",
    "DNA sequencing consists in readings DNA fragments to obtain *reads*, which are sequences of letters\n",
    "that indicate the base pairs that make up the fragments. There are three *generations* of DNA\n",
    "sequencing technologies:\n",
    "\n",
    "| Generation       | Time Frame      | Max Read Length    | Other Names                                |\n",
    "| ---------------- | --------------- | ------------------ | ------------------------------------------ |\n",
    "| First            | 1977 - present  | 800 to 1000        | Sanger sequencing  |\n",
    "| Second           | Mid 2000s - present | 50 to 300      | Next-generation sequencing (NGS), Massive parallel sequencing |\n",
    "| Third            | Late 2000s - present | 100 000       | Long-read sequencing |\n",
    "\n",
    "DNA sequencing devices and processing software produce **sequencing files**. FASTQ is a format for\n",
    "such files. For instance, the following cell is taken from the project described at\n",
    "https://pmc.ncbi.nlm.nih.gov/articles/PMC9299564/. You can download the sequencing file from the\n",
    "sequence read archive at https://www.ncbi.nlm.nih.gov/sra?term=SRR10256704.\n",
    "\n",
    "```\n",
    "@SRR10256704.1 1 length=137\n",
    "ACGCGTGATCAGCAAAAGCAGGTCAAATATATTCAATATGGAGAGAATAAAAGAGCTGAGAGATCTAATGTCGCAGTCCCGCACTCGCGAGATACTCACTAAGACCACTGTGGACCATATGGCCATCATCAAAAAAT\n",
    "+SRR10256704.1 1 length=137\n",
    "?????????????????????????????????????????????????????????????????????????????????????????????????????????????????????????????????????????\n",
    "```\n",
    "\n",
    "The fourth line (`???...`) indicates the **Phred quality score** of the corresponding nucleotides.\n",
    "The character `?` corresponds to a score of 30, which means that each nucleotide has a probability\n",
    "of around 0.001 to be incorrectly sequenced. So the quality is pretty good! You can read more about\n",
    "the quality scores at  https://en.wikipedia.org/wiki/Phred_quality_score."
   ]
  },
  {
   "cell_type": "markdown",
   "metadata": {},
   "source": [
    "## What Program to Use\n",
    "\n",
    "- FastQC (https://www.bioinformatics.babraham.ac.uk/projects/fastqc/) to visualize quality.\n",
    "- Trimmomatic (http://www.usadellab.org/cms/?page=trimmomatic) to trim low-quality extremities.\n",
    "- Trim Galore (https://www.bioinformatics.babraham.ac.uk/projects/trim_galore/) another trimmer."
   ]
  },
  {
   "cell_type": "markdown",
   "metadata": {},
   "source": [
    "## How to Obtain Sequences\n",
    "\n",
    "- To **sequence** DNA, each sequencing device manufacturer releases their own software to process\n",
    "  the data produced by the devices into sequencing files.\n",
    "- To **download** DNA sequences that have already been sequenced, you can use:\n",
    "  - The SRA Toolkit (https://github.com/ncbi/sra-tools/wiki) for sequences hosted by the NCBI (you\n",
    "    can also visit https://www.ncbi.nlm.nih.gov/sra to download sequences from a browser)\n",
    "  - The European Nucleotide Archive (https://www.ebi.ac.uk/ena/browser/home), another DNA data bank\n",
    "    from the EMBL.\n",
    "  - The DNA DataBank of Japan (DDBJ, https://www.ddbj.nig.ac.jp/index-e.html), another DNA data bank\n",
    "\n",
    "Most journals require DNA sequences used for a research paper to be deposited in a DNA data bank,\n",
    "so you can find a lot of sequences on the NCBI/EMBL/DDBJ portals!"
   ]
  },
  {
   "cell_type": "markdown",
   "metadata": {},
   "source": [
    "<a id='part2'></a>\n",
    "\n",
    "## 2. Genome Assembly\n",
    "\n",
    "DNA sequencing technologies only sequence relatively short reads (maximum 100,000 with 3rd gen).\n",
    "Human chromosomes are much longer than that - from ~47 million base pairs for chromosome 21 to ~249\n",
    "million base pairs for chromosome 1 (https://www.ncbi.nlm.nih.gov/books/NBK22266/). Ok, the\n",
    "mitochondrial chromosome is much smaller and *can* get read in one pass of a third generation\n",
    "sequencer, but that's an exception. We have to split the chromosomes into shorter fragments,\n",
    "sequence them separately, and assemble them. There are two main approaches to do that:\n",
    "\n",
    "- De novo (i.e. assemble the fragments from scratch)\n",
    "- Reference-based (i.e. align the fragments against a reference genome from a similar organism)"
   ]
  },
  {
   "cell_type": "markdown",
   "metadata": {},
   "source": [
    "<a id='part21'></a>\n",
    "\n",
    "## 2.1 De Novo Assembly\n",
    "\n",
    "De novo assembly consists in stitching all reads together by finding their overlaps. Let's try a\n",
    "naïve approach: each fragment will be compared to all other fragments.\n",
    "\n",
    "For the sake of demonstration, let's generate a fake DNA sequence and simulate fragment reads:"
   ]
  },
  {
   "cell_type": "code",
   "execution_count": 320,
   "metadata": {},
   "outputs": [
    {
     "name": "stdout",
     "output_type": "stream",
     "text": [
      "Simulated DNA sequence:\n",
      "TTACCTTCCGCGAAATTCAGCGGGACAGTTCGGCGCTTTGTCCCGTACGAAGTTCCCACACAAGACGCAAGTTGTGCATG\n",
      "\n",
      "Simulating fragment reads:\n",
      "TTACCTTCCGCGAAATTCAGCGGGACAGTT\n",
      "                              CGGCGCTTTGTCCC\n",
      "                                            GTACGAAGTTCCCACACAAGACGCAAGTTGT\n",
      "                                                                           GCATG\n",
      "TTACCTTCCGCGA\n",
      "             AATTCAGCGGGACAGTTCGGCGCTTTGTCC\n",
      "                                           CGTACGAAGTTCCCACA\n",
      "                                                            CAAGACGCAAGTT\n",
      "                                                                         GTGCATG\n",
      "TTACCTTCCGCGAAATTCAGCGGGACAGTT\n",
      "                              CGGCGCTTTGTCCCGTACGAAGTTCCC\n",
      "                                                         ACACAAGACGCAAGTTGTGCATG\n",
      "Shuffling the reads!\n",
      "['GTACGAAGTTCCCACACAAGACGCAAGTTGT', 'TTACCTTCCGCGAAATTCAGCGGGACAGTT', 'GTGCATG', 'ACACAAGACGCAAGTTGTGCATG', 'TTACCTTCCGCGAAATTCAGCGGGACAGTT', 'CGGCGCTTTGTCCCGTACGAAGTTCCC', 'TTACCTTCCGCGA', 'CGTACGAAGTTCCCACA', 'CAAGACGCAAGTT', 'AATTCAGCGGGACAGTTCGGCGCTTTGTCC', 'GCATG', 'CGGCGCTTTGTCCC']\n",
      "\n",
      "We have 12 reads for a sequence of 80 base pairs.\n"
     ]
    }
   ],
   "source": [
    "NUCLEOTIDES = ('A', 'T', 'C', 'G')\n",
    "SEQUENCE_SIZE = 80\n",
    "READ_AVERAGE_SIZE = 25\n",
    "READ_VARIANCE = 12\n",
    "COVERAGE = 3\n",
    "MINIMUM_OVERLAP = 4\n",
    "\n",
    "\n",
    "sequence = \"\".join([choice(NUCLEOTIDES) for _ in range(SEQUENCE_SIZE)])\n",
    "print(\"Simulated DNA sequence:\")\n",
    "print(sequence)\n",
    "print()\n",
    "\n",
    "\n",
    "def simulate_reads(sequence: str, variance: int, size: int, verbose: bool = True) -> list[str]:\n",
    "    reads = []\n",
    "    if verbose:\n",
    "        print(\"Simulating fragment reads:\")\n",
    "    for _ in range(COVERAGE):\n",
    "        offset = 0\n",
    "        while offset < len(sequence):\n",
    "            delta = size + randint(-variance, variance)\n",
    "            endpoint = offset + delta\n",
    "            if endpoint > len(sequence):\n",
    "                endpoint = len(sequence)\n",
    "            reads.append(sequence[offset:endpoint])\n",
    "            if verbose:\n",
    "                print(f\"{' ' * offset}{reads[-1]}\")\n",
    "            offset += delta\n",
    "\n",
    "    if verbose:\n",
    "        print(\"Shuffling the reads!\")\n",
    "    shuffle(reads)\n",
    "    if verbose:\n",
    "        print(reads)\n",
    "        print()\n",
    "    return reads\n",
    "\n",
    "\n",
    "reads = simulate_reads(sequence, READ_VARIANCE, READ_AVERAGE_SIZE)\n",
    "print(f\"We have {len(reads)} reads for a sequence of {SEQUENCE_SIZE} base pairs.\")"
   ]
  },
  {
   "cell_type": "markdown",
   "metadata": {},
   "source": [
    "Let's begin with a naïve approach that performs pairwise comparisons:"
   ]
  },
  {
   "cell_type": "code",
   "execution_count": 321,
   "metadata": {},
   "outputs": [],
   "source": [
    "def naive_contig(reads: list[str], minimum_overlap: int) -> list[tuple]:\n",
    "    \"\"\"Elaborate contigs from the overlaps of the provided reads.\n",
    "\n",
    "    E.g.:\n",
    "        read:      AAAACCCC----\n",
    "        candidate: ----CCCCTTTT\n",
    "        overlap:       CCCC\n",
    "        sequence:  AAAACCCCTTTT\n",
    "    \"\"\"\n",
    "    contigs = []\n",
    "    for i, read in enumerate(reads):\n",
    "        for candidate in reads[i:]:\n",
    "            if candidate == read:\n",
    "                continue  # Do not compare a read to itself!\n",
    "            overlap_scores = {}\n",
    "            n_iterations = len(read) + len(candidate)\n",
    "            for overlap_index in range(1, n_iterations):\n",
    "                a = len(read) - overlap_index\n",
    "                b = a + len(candidate)\n",
    "                X = read[max(a, 0):min(b, len(read))]\n",
    "                b = overlap_index\n",
    "                a = overlap_index - len(read)\n",
    "                Y = candidate[max(a, 0):min(b, len(candidate))]\n",
    "                score = sum([1 if x == y else -1 for (x, y) in zip(X, Y)])\n",
    "                overlap_scores[score] = overlap_index\n",
    "            highest_overlap = max(overlap_scores)\n",
    "            if highest_overlap >= minimum_overlap:\n",
    "                offset = overlap_scores[highest_overlap]\n",
    "                a = f\"{'-' * (offset - len(read))}{read}{'-' * (len(candidate) - offset)}\"\n",
    "                b = f\"{'-' * (len(read) - offset)}{candidate}{'-' * (offset - len(candidate))}\"\n",
    "                contig = []\n",
    "                for x, y in zip(a, b):\n",
    "                    contig.append(x if x != '-' else y)\n",
    "                contig = \"\".join(contig)\n",
    "                if len(contig) > len(read) and len(contig) > len(candidate):\n",
    "                    contigs.append((read, candidate, offset, len(contig), contig, highest_overlap))\n",
    "    return contigs\n",
    "\n",
    "\n",
    "def assemble_with_naive_de_novo(reads: list, verbose: bool = True) -> str:\n",
    "    current_contigs = reads\n",
    "    overlap = 6\n",
    "    for iteration in range(10):\n",
    "        if verbose:\n",
    "            print(f\"Iteration {iteration}: {current_contigs}\")\n",
    "        initial_count = len(current_contigs)\n",
    "        tentative = naive_contig(current_contigs, overlap)\n",
    "        if not tentative:\n",
    "            break\n",
    "        contig_data = tentative\n",
    "        current_contigs = [c[4] for c in contig_data]\n",
    "        if len(current_contigs) > 32:\n",
    "            current_contigs = current_contigs[:32]\n",
    "        current_contigs = list(set(current_contigs))\n",
    "        if len(current_contigs) in (1, initial_count):\n",
    "            break\n",
    "    return sorted(current_contigs, key = lambda x: len(x), reverse = True)[0]"
   ]
  },
  {
   "cell_type": "code",
   "execution_count": 322,
   "metadata": {},
   "outputs": [
    {
     "name": "stdout",
     "output_type": "stream",
     "text": [
      "Iteration 0: ['GTACGAAGTTCCCACACAAGACGCAAGTTGT', 'TTACCTTCCGCGAAATTCAGCGGGACAGTT', 'GTGCATG', 'ACACAAGACGCAAGTTGTGCATG', 'TTACCTTCCGCGAAATTCAGCGGGACAGTT', 'CGGCGCTTTGTCCCGTACGAAGTTCCC', 'TTACCTTCCGCGA', 'CGTACGAAGTTCCCACA', 'CAAGACGCAAGTT', 'AATTCAGCGGGACAGTTCGGCGCTTTGTCC', 'GCATG', 'CGGCGCTTTGTCCC']\n",
      "Iteration 1: ['GTACGAAGTTCCCACACAAGACGCAAGTTGTGCATG', 'AATTCAGCGGGACAGTTCGGCGCTTTGTCCCGTACGAAGTTCCC', 'AATTCAGCGGGACAGTTCGGCGCTTTGTCCC', 'CGTACGAAGTTCCCACACAAGACGCAAGTTGT', 'CGGCGCTTTGTCCCGTACGAAGTTCCCACA', 'CGGCGCTTTGTCCCGTACGAAGTTCCCACACAAGACGCAAGTTGT', 'TTACCTTCCGCGAAATTCAGCGGGACAGTTCGGCGCTTTGTCC']\n",
      "Iteration 2: ['TTACCTTCCGCGAAATTCAGCGGGACAGTTCGGCGCTTTGTCCCGTACGAAGTTCCC', 'TTACCTTCCGCGAAATTCAGCGGGACAGTTCGGCGCTTTGTCCCGTACGAAGTTCCCACA', 'TTACCTTCCGCGAAATTCAGCGGGACAGTTCGGCGCTTTGTCCC', 'CGTACGAAGTTCCCACACAAGACGCAAGTTGTGCATG', 'AATTCAGCGGGACAGTTCGGCGCTTTGTCCCGTACGAAGTTCCCACA', 'CGGCGCTTTGTCCCGTACGAAGTTCCCACACAAGACGCAAGTTGT', 'CGGCGCTTTGTCCCGTACGAAGTTCCCACACAAGACGCAAGTTGTGCATG', 'TTACCTTCCGCGAAATTCAGCGGGACAGTTCGGCGCTTTGTCCCGTACGAAGTTCCCACACAAGACGCAAGTTGT', 'AATTCAGCGGGACAGTTCGGCGCTTTGTCCCGTACGAAGTTCCCACACAAGACGCAAGTTGT', 'AATTCAGCGGGACAGTTCGGCGCTTTGTCCCGTACGAAGTTCCCACACAAGACGCAAGTTGTGCATG']\n",
      "Iteration 3: ['TTACCTTCCGCGAAATTCAGCGGGACAGTTCGGCGCTTTGTCCCGTACGAAGTTCCCACACAAGACGCAAGTTGTGCATG', 'TTACCTTCCGCGAAATTCAGCGGGACAGTTCGGCGCTTTGTCCCGTACGAAGTTCCCACA', 'AATTCAGCGGGACAGTTCGGCGCTTTGTCCCGTACGAAGTTCCCACACAAGACGCAAGTTGT', 'TTACCTTCCGCGAAATTCAGCGGGACAGTTCGGCGCTTTGTCCCGTACGAAGTTCCCACACAAGACGCAAGTTGT', 'CGGCGCTTTGTCCCGTACGAAGTTCCCACACAAGACGCAAGTTGTGCATG', 'AATTCAGCGGGACAGTTCGGCGCTTTGTCCCGTACGAAGTTCCCACACAAGACGCAAGTTGTGCATG']\n",
      "Iteration 4: ['AATTCAGCGGGACAGTTCGGCGCTTTGTCCCGTACGAAGTTCCCACACAAGACGCAAGTTGTGCATG', 'TTACCTTCCGCGAAATTCAGCGGGACAGTTCGGCGCTTTGTCCCGTACGAAGTTCCCACACAAGACGCAAGTTGT', 'TTACCTTCCGCGAAATTCAGCGGGACAGTTCGGCGCTTTGTCCCGTACGAAGTTCCCACACAAGACGCAAGTTGTGCATG']\n",
      "Assembled sequence: TTACCTTCCGCGAAATTCAGCGGGACAGTTCGGCGCTTTGTCCCGTACGAAGTTCCCACACAAGACGCAAGTTGTGCATG\n",
      "Original sequence:  TTACCTTCCGCGAAATTCAGCGGGACAGTTCGGCGCTTTGTCCCGTACGAAGTTCCCACACAAGACGCAAGTTGTGCATG\n"
     ]
    }
   ],
   "source": [
    "assembly = assemble_with_naive_de_novo(reads)\n",
    "print(f\"Assembled sequence: {assembly}\")\n",
    "print(f\"Original sequence:  {sequence}\")"
   ]
  },
  {
   "cell_type": "markdown",
   "metadata": {},
   "source": [
    "It doesn't *always* converge to the right sequence because the reads are short and may overlap to\n",
    "the wrong sequence, but this approach works most of the time. How fast is it?"
   ]
  },
  {
   "cell_type": "code",
   "execution_count": 339,
   "metadata": {},
   "outputs": [
    {
     "data": {
      "image/png": "[encoded data removed]",
      "text/plain": [
       "<Figure size 640x480 with 1 Axes>"
      ]
     },
     "metadata": {},
     "output_type": "display_data"
    }
   ],
   "source": [
    "def benchmark_assembly(n: int) -> float:\n",
    "    N = 10\n",
    "    total = 0\n",
    "    for _ in range(N):\n",
    "        sequence = \"\".join([choice(NUCLEOTIDES) for _ in range(n)])\n",
    "        reads = simulate_reads(sequence, READ_VARIANCE, READ_AVERAGE_SIZE, False)\n",
    "        start = time.time()\n",
    "        try:\n",
    "            assemble_with_naive_de_novo(reads, False)\n",
    "        except:\n",
    "            print(f\"Assembly with N = {n} failed.\")\n",
    "        end = time.time()\n",
    "        total += end - start\n",
    "    return total / N\n",
    "\n",
    "\n",
    "fig, ax = plt.subplots()\n",
    "N = range(32, 90)\n",
    "durations = [benchmark_assembly(n) for n in N]\n",
    "ax.plot(N, durations)\n",
    "ax.set(xlabel='Number of base pairs', ylabel='Duration (s)')\n",
    "plt.show()"
   ]
  },
  {
   "cell_type": "markdown",
   "metadata": {},
   "source": [
    "😱 it runs in O(N<sup>2</sup>) time! That's no surprise, the number of comparisons increases\n",
    "quadratically with the number of reads. If you wonder why the duration yoyos throughout the tests,\n",
    "it's because, since the fragments are randomly split, they sometimes happen to be easier to\n",
    "assemble.\n",
    "\n",
    "Imagine assembling millions of reads like that! It's way too inefficient, so we'll see two\n",
    "algorithms that can speed things up: overlap layout consensus (OLC) and De Bruijn graphs (DBG).\n",
    "Check out https://ocw.mit.edu/courses/7-91j-foundations-of-computational-and-systems-biology-spring-2014/e885f0eb376ea6c2045eb9d8847f106f_MIT7_91JS14_Lecture6.pdf\n",
    "for a more thorough discussion.\n",
    "\n",
    "The OLC algorithm comprises three steps:\n",
    "\n",
    "- Build an **overlap** graph (function `overlap_graph`)\n",
    "- Reconstruct contigs from the graph - this is called **layout**\n",
    "- Fix the errors and gaps by comparing the contigs - this is called **consensus** (not shown here)"
   ]
  },
  {
   "cell_type": "code",
   "execution_count": 324,
   "metadata": {},
   "outputs": [],
   "source": [
    "def prune_unconnected_nodes(G: rx.PyDiGraph) -> None:\n",
    "    to_remove = []\n",
    "    for i in G.node_indices():\n",
    "        if not G.in_edges(i) and not G.out_edges(i):\n",
    "            to_remove.append(i)\n",
    "    for r in to_remove:\n",
    "        G.remove_node(r)\n",
    "\n",
    "\n",
    "def overlap_graph(reads: list[str], minimum_overlap: int = 3) -> rx.PyDiGraph:\n",
    "    graph = rx.PyDiGraph()\n",
    "    nodes = []\n",
    "    for read in reads:\n",
    "        nodes.append(graph.add_node(read))\n",
    "    for n in range(len(graph)):\n",
    "        N = graph[n]\n",
    "        for m in range(len(graph)):\n",
    "            if n == m:\n",
    "                continue\n",
    "            M = graph[m]\n",
    "            best = 0\n",
    "            for overlap in range(minimum_overlap, len(N) + 1):\n",
    "                N_suffix = N[-overlap:]\n",
    "                M_prefix = M[:overlap]\n",
    "                if N_suffix == M_prefix:\n",
    "                    best = overlap\n",
    "            if best:\n",
    "                graph.add_edge(n, m, -best)\n",
    "    prune_unconnected_nodes(graph)\n",
    "    return graph\n",
    "\n",
    "\n",
    "def find_sources(G: rx.PyDiGraph) -> list[int]:\n",
    "    sources = []\n",
    "    for i in G.node_indices():\n",
    "        if not G.in_edges(i):\n",
    "            sources.append(i)\n",
    "    return sources\n",
    "\n",
    "\n",
    "def find_sinks(G: rx.PyDiGraph) -> list[int]:\n",
    "    sinks = []\n",
    "    for i in G.node_indices():\n",
    "        if not G.out_edges(i):\n",
    "            sinks.append(i)\n",
    "    return sinks\n",
    "\n",
    "\n",
    "def overlap_layout_consensus_contig(reads: list[str], minimum_overlap: int) -> list[tuple]:\n",
    "    \"\"\"Elaborate contigs with OLC, which consists in constructing a graph\n",
    "    directly from reads.\n",
    "    \"\"\"\n",
    "    G = overlap_graph(reads, minimum_overlap)\n",
    "    sources = find_sources(G)\n",
    "    sinks = find_sinks(G)\n",
    "    # Heuristic 1: Pick the longest source.\n",
    "    source = sources[0]\n",
    "    for s in sources[1:]:\n",
    "        if len(G[s]) > len(G[source]):\n",
    "            source = s\n",
    "    # Heuristic 2: Find the shortest path through greedy search.\n",
    "    path = [source]\n",
    "    overlaps = [0]\n",
    "    while True:\n",
    "        try:\n",
    "            edges = list(G.out_edges(path[-1]))\n",
    "            edges = sorted(edges, key=lambda x: x[-1])\n",
    "            edge = sorted(edges, key=lambda x: len(G[x[1]]), reverse=True)[0]\n",
    "            path.append(edge[1])\n",
    "            overlaps.append(edge[2])\n",
    "        except:\n",
    "            break\n",
    "        if path[-1] in sinks:\n",
    "            break\n",
    "    # Reconstruct the sequence.\n",
    "    sequence = \"\"\n",
    "    for p, o in zip(path, overlaps):\n",
    "        sequence += G[p][-o:]\n",
    "    return sequence\n",
    "\n",
    "\n",
    "def view_graph(G: rx.PyDiGraph, s: int = 12) -> None:\n",
    "    figure, _ = plt.subplots()\n",
    "    mpl_draw(\n",
    "        G,\n",
    "        with_labels=True,\n",
    "        labels=str,\n",
    "        edge_labels=str,\n",
    "        node_color=[0.75, 0.75, 1],\n",
    "        node_size=500\n",
    "    )\n",
    "    figure.set_figwidth(s)\n",
    "    figure.set_figheight(s)\n",
    "    plt.show()"
   ]
  },
  {
   "cell_type": "markdown",
   "metadata": {},
   "source": [
    "Let's try it out with a simple example:"
   ]
  },
  {
   "cell_type": "code",
   "execution_count": 325,
   "metadata": {},
   "outputs": [
    {
     "name": "stdout",
     "output_type": "stream",
     "text": [
      "Original sequence: AAAACCCCTTTT\n",
      "Overlap graph:\n"
     ]
    },
    {
     "data": {
      "image/png": "[encoded data removed]",
      "text/plain": [
       "<Figure size 800x800 with 1 Axes>"
      ]
     },
     "metadata": {},
     "output_type": "display_data"
    },
    {
     "name": "stdout",
     "output_type": "stream",
     "text": [
      "Layout assembly:   AAAACCCCTTTT\n"
     ]
    }
   ],
   "source": [
    "print(\"Original sequence: AAAACCCCTTTT\")\n",
    "reads = (\"AAAACCCC\", \"CCCCTT\", \"CCTTTT\", \"AAAA\", \"CCC\")\n",
    "print(\"Overlap graph:\")\n",
    "G = overlap_graph(reads, 2)\n",
    "view_graph(G, 8)\n",
    "s = overlap_layout_consensus_contig(reads, 2)\n",
    "print(f\"Layout assembly:   {s}\")"
   ]
  },
  {
   "cell_type": "markdown",
   "metadata": {},
   "source": [
    "Ok, let's try with a simulated sequence:"
   ]
  },
  {
   "cell_type": "code",
   "execution_count": null,
   "metadata": {},
   "outputs": [
    {
     "name": "stdout",
     "output_type": "stream",
     "text": [
      "Original sequence: AAAGGATCAACGTAGTGTGCCAATCAACCATGCAGGTAAAACCCCGGGGCGCGCCCTCTTTCTA\n",
      "Simulating fragment reads:\n",
      "AAAGGATCAACGTAGTGTGCCAATCAACCAT\n",
      "                               GCAGGTAAAACCCCGGGGCGCGCCCTCTTTCTA\n",
      "AAAGGATCAACGTAGTGTGCCAATCAA\n",
      "                           CCATGCAGGTAAAACCCCGGGGCGCGCCC\n",
      "                                                        TCTTTCTA\n",
      "AAAGGATCAACGTA\n",
      "              GTGTGCCAATCAACCATGCA\n",
      "                                  GGTAAAACCCCGGGGCG\n",
      "                                                   CGCCCTCTTTCTA\n",
      "Shuffling the reads!\n",
      "['CCATGCAGGTAAAACCCCGGGGCGCGCCC', 'GGTAAAACCCCGGGGCG', 'AAAGGATCAACGTAGTGTGCCAATCAACCAT', 'GCAGGTAAAACCCCGGGGCGCGCCCTCTTTCTA', 'AAAGGATCAACGTAGTGTGCCAATCAA', 'CGCCCTCTTTCTA', 'GTGTGCCAATCAACCATGCA', 'TCTTTCTA', 'AAAGGATCAACGTA']\n",
      "\n",
      "Reconstructing the sequence with OLC:\n",
      "AAAGGATCAACGTAGTGTGCCAATCAACCATGCAGGTAAAACCCCGGGGCGCGCCCTCTTTCTA\n"
     ]
    }
   ],
   "source": [
    "sequence = \"\".join([choice(NUCLEOTIDES) for _ in range(64)])\n",
    "print(f\"Original sequence: {sequence}\")\n",
    "reads = simulate_reads(sequence, 12, 24)\n",
    "print(\"Reconstructing the sequence with OLC:\")\n",
    "s = overlap_layout_consensus_contig(reads, 6)\n",
    "print(s)"
   ]
  },
  {
   "cell_type": "markdown",
   "metadata": {},
   "source": [
    "Pretty good! But it doesn't always converge because of the imperfect heuristics. Also, constructing\n",
    "the graph is time-consuming. The function `overlap_graph` uses pairwise comparisons, so it takes\n",
    "O(N<sup>2</sup>) time. It's possible to optimize it by binning the reads into categories based on\n",
    "their prefix and suffix to avoid having to compute some alignments. Also, the layout (i.e.\n",
    "reconstructing the sequence from the graph) is fast. So OLC is definitely an improvement over the\n",
    "naïve approach, but it is most applicable to situations in which we have a few long reads, as with\n",
    "third generation sequencing. In second generation sequencing, the reads are so numerous that\n",
    "building the overlap graph is expensive.\n",
    "\n",
    "An algorithm to assemble a very large number of reads is the De Bruijn graph. This method relies on\n",
    "k-mers, the set of possible substrings that can be elaborated from a string. K-mers act like\n",
    "specific markers in a sequence, and we will assemble the reads from these markers instead of the\n",
    "full reads. This makes the computations faster, but it also makes the reconstruction of the original\n",
    "sequence less accurate."
   ]
  },
  {
   "cell_type": "code",
   "execution_count": 327,
   "metadata": {},
   "outputs": [],
   "source": [
    "def get_k_mers(s: str, k: int) -> list[str]:\n",
    "    \"\"\"Generate the k-mers of a sequence `s`.\n",
    "\n",
    "    E.g.:\n",
    "\n",
    "    >>> get_k_mers(\"ACGTTCGT\", 3)\n",
    "    [\"ACG\", \"CGT\", \"GTT\", \"TTG\", \"TCG\"]\n",
    "    \"\"\"\n",
    "    k_mers = []\n",
    "    for i in range(len(s) - k + 1):\n",
    "        k_mers.append(s[i:i + k])\n",
    "    return list(set(k_mers))\n",
    "\n",
    "\n",
    "def left_right_k_mers(s: str) -> tuple[str]:\n",
    "    \"\"\"Return the left and right (k-1)-mers of the input.\n",
    "\n",
    "    E.g.:\n",
    "\n",
    "    >>> left_right_k_mers(\"ACGT\")\n",
    "    (\"ACG\", \"CGT\")\n",
    "    \"\"\"\n",
    "    return s[:-1], s[1:]\n",
    "\n",
    "\n",
    "def de_bruijn_graph(reads: list[str], k: int) -> list[tuple]:\n",
    "    \"\"\"Create a De Bruijn graph.\"\"\"\n",
    "    graph = rx.PyDiGraph()\n",
    "    kmers = []\n",
    "    for read in reads:\n",
    "        kmers += get_k_mers(read, k)\n",
    "    nodes = {}\n",
    "    for kmer in kmers:\n",
    "        left_kmer, right_kmer = left_right_k_mers(kmer)\n",
    "        # Add nodes\n",
    "        if left_kmer not in nodes:\n",
    "            nodes[left_kmer] = graph.add_node(left_kmer)\n",
    "        if right_kmer not in nodes:\n",
    "            nodes[right_kmer] = graph.add_node(right_kmer)\n",
    "        # Create edges\n",
    "        a, b = nodes[left_kmer], nodes[right_kmer]\n",
    "        if not graph.edge_indices_from_endpoints(a, b) and a != b:\n",
    "            graph.add_edge(a, b, 1)\n",
    "    # Connect to another node.\n",
    "    for node in nodes:\n",
    "        for base in NUCLEOTIDES:\n",
    "            target = node[1:] + base\n",
    "            if target in nodes:\n",
    "                a, b = nodes[node], nodes[target]\n",
    "                if a == b:\n",
    "                    continue\n",
    "                edge_index = graph.edge_indices_from_endpoints(a, b)\n",
    "                if not edge_index:\n",
    "                    graph.add_edge(a, b, 1)\n",
    "                else:\n",
    "                    v = graph.get_edge_data(a, b)\n",
    "                    graph.update_edge(a, b, v + 1)\n",
    "    return graph\n",
    "\n",
    "\n",
    "def de_bruijn_contig(reads: list[str], k: int) -> list[tuple]:\n",
    "    G = de_bruijn_graph(reads, k)\n",
    "    sources = find_sources(G)\n",
    "    sinks = find_sinks(G)\n",
    "    source = sources[0]\n",
    "    # Find the shortest path through greedy search.\n",
    "    path = [source]\n",
    "    while True:\n",
    "        try:\n",
    "            edges = list(G.out_edges(path[-1]))\n",
    "            edges = sorted(edges, key=lambda x: x[-1])\n",
    "            edge = sorted(edges, key=lambda x: len(G[x[1]]), reverse=True)[0]\n",
    "            path.append(edge[1])\n",
    "        except:\n",
    "            break\n",
    "        if path[-1] in sinks:\n",
    "            break\n",
    "    # Reconstruct the sequence.\n",
    "    sequence = \"\"\n",
    "    for p in path:\n",
    "        sequence += G[p][0]\n",
    "    sequence += G[p][1:]\n",
    "    return sequence"
   ]
  },
  {
   "cell_type": "code",
   "execution_count": 329,
   "metadata": {},
   "outputs": [
    {
     "name": "stdout",
     "output_type": "stream",
     "text": [
      "Original sequence: AAAACCCCTTTT\n",
      "De Bruijn graph:\n"
     ]
    },
    {
     "data": {
      "image/png": "[encoded data removed]",
      "text/plain": [
       "<Figure size 800x800 with 1 Axes>"
      ]
     },
     "metadata": {},
     "output_type": "display_data"
    },
    {
     "name": "stdout",
     "output_type": "stream",
     "text": [
      "Layout assembly:   AAAACCCTTTT\n",
      "Original sequence: AAAACCCCTTTT\n"
     ]
    }
   ],
   "source": [
    "print(\"Original sequence: AAAACCCCTTTT\")\n",
    "reads = (\"ACCCCT\", \"CCTTTT\", \"AAAACC\", \"ACCCCT\")\n",
    "print(\"De Bruijn graph:\")\n",
    "G = de_bruijn_graph(reads, 5)\n",
    "view_graph(G, 8)\n",
    "reconstruction = de_bruijn_contig(reads, 5)\n",
    "print(f\"Layout assembly:   {reconstruction}\")\n",
    "print(f\"Original sequence: AAAACCCCTTTT\")"
   ]
  },
  {
   "cell_type": "markdown",
   "metadata": {},
   "source": [
    "The bulge in the center of the graph is ambiguous. Using the greedy search heuristic, the `CCCC`\n",
    "node is ignored, but it should actually be included to reconstruct the proper sequence. We can\n",
    "mitigate this problem by using more advanced heuristics and longer K-mers, but the OLC method \n",
    "typically resolves such ambiguities and repetitions better than De Bruijn graphs. Let's try the DBG\n",
    "with a simulated sequence:"
   ]
  },
  {
   "cell_type": "code",
   "execution_count": 335,
   "metadata": {},
   "outputs": [
    {
     "name": "stdout",
     "output_type": "stream",
     "text": [
      "Original sequence: TCGCATAATCGTATCACAGCCAGAGGAGATAGAATGAGTCCTTAAACAGTAAAAAAAAAGCCGT\n",
      "Simulating fragment reads:\n",
      "TCGCATAATCGTATCACAGCCAGAGGA\n",
      "                           GATAGAATGAGTCCTT\n",
      "                                           AAACAGTAAAAAAAAAGCCGT\n",
      "TCGCATAATCGT\n",
      "            ATCACAGCCAGAGGAGATAGAATGAGT\n",
      "                                       CCTTAAACAGTAAAAAAAAAGCC\n",
      "                                                              GT\n",
      "TCGCATAATCGTATCACAGCCAGAGGAGAT\n",
      "                              AGAATGAGTCCTTA\n",
      "                                            AACAGTAAAAAAAAAGCCGT\n",
      "Shuffling the reads!\n",
      "['TCGCATAATCGTATCACAGCCAGAGGAGAT', 'AACAGTAAAAAAAAAGCCGT', 'GT', 'CCTTAAACAGTAAAAAAAAAGCC', 'TCGCATAATCGT', 'GATAGAATGAGTCCTT', 'ATCACAGCCAGAGGAGATAGAATGAGT', 'AGAATGAGTCCTTA', 'AAACAGTAAAAAAAAAGCCGT', 'TCGCATAATCGTATCACAGCCAGAGGA']\n",
      "\n",
      "Reconstructing the sequence with DBG:\n",
      "TCGCATAATCGTATCACAGCCAGAGGAGATAGAATGAGTCCTTA\n"
     ]
    }
   ],
   "source": [
    "sequence = \"\".join([choice(NUCLEOTIDES) for _ in range(64)])\n",
    "print(f\"Original sequence: {sequence}\")\n",
    "reads = simulate_reads(sequence, 12, 24)\n",
    "print(\"Reconstructing the sequence with DBG:\")\n",
    "s = de_bruijn_contig(reads, 10)\n",
    "print(s)"
   ]
  },
  {
   "cell_type": "markdown",
   "metadata": {},
   "source": [
    "Given this simple heuristic, the lengths of the reads, and the chose K-mer length, the OLC method\n",
    "generally outperforms the DBG in terms of accuracy, but the DBG is less computationally expensive.\n",
    "So there's a tradeoff:\n",
    "\n",
    "- OLC: Slow, precise. Good for assembling long reads.\n",
    "- DBG: Fast, imprecise. Good for assembling short reads."
   ]
  },
  {
   "cell_type": "markdown",
   "metadata": {},
   "source": [
    "You can use the following programs for de novo assembly:\n",
    "\n",
    "- **Overlap-layout-consensus** (primarily intended for 3rd generation sequencing):\n",
    "  - Canu https://github.com/marbl/canu\n",
    "  - Flye https://github.com/mikolmogorov/Flye\n",
    "  - MECAT2 https://github.com/xiaochuanle/MECAT2\n",
    "- **De Bruijn Graph**:\n",
    "  - MEGAHIT https://github.com/voutcn/megahit\n",
    "  - Velvet https://github.com/dzerbino/velvet\n",
    "  - SPades https://github.com/ablab/ - can run in hybrid mode\n",
    "- **Hybrid approach**:\n",
    "  - MaSuRCA https://github.com/alekseyzimin/masurca\n",
    "  - Unicycler https://github.com/rrwick/Unicycler"
   ]
  },
  {
   "cell_type": "markdown",
   "metadata": {},
   "source": [
    "<a id='part22'></a>\n",
    "\n",
    "## 2.2 Reference-Based Assembly\n",
    "\n",
    "Reference-based assembly, also called mapping assembly, resequencing, or alignment in some contexts,\n",
    "consists in matching the reads against a known reference genome. This only works if someone has\n",
    "already sequenced a similar organism.\n",
    "\n",
    "For instance, we already have a high quality reference genome for human beings\n",
    "(GRCh38/hg38 https://www.ncbi.nlm.nih.gov/datasets/genome/GCF_000001405.40/), so when studying human\n",
    "DNA, instead of stitching all the reads from a sequencer, we can just align them to this reference.\n",
    "This is much faster than de novo assembly because is saves us a lot of pairwise comparisons. Of\n",
    "course, all humans have a slightly different genome, but they are so similar that it's easy to align\n",
    "them to the reference.\n",
    "\n",
    "But a lot of organisms do not have a reference genome! This is especially problematic when studying\n",
    "microbiomes, where thousands of species coexist and would each need to be aligned to specific\n",
    "reference genomes that we don't even know in advance.\n",
    "\n",
    "To demonstrate how reference-based assembly works, we'll simulate a reference genome and reads that\n",
    "can align to it:"
   ]
  },
  {
   "cell_type": "code",
   "execution_count": 363,
   "metadata": {},
   "outputs": [
    {
     "name": "stdout",
     "output_type": "stream",
     "text": [
      "Reference genome: AGCAAATTAGCGACGCGGTCGCGGGGCCTCGTGCGCAGGCGCTTAAATCCCCGGACAGACTCGGCCTGTAGGTTGTGATGTTGAGAGGAGATAGTAGGCT\n",
      "            Read:                           TCTGTGCGCAGGGC\n"
     ]
    }
   ],
   "source": [
    "reference = \"\".join([choice(NUCLEOTIDES) for _ in range(100)])\n",
    "print(f\"Reference genome: {reference}\")\n",
    "\n",
    "\n",
    "def sample_read(reference: str, n: int, indel: int) -> tuple[str, int]:\n",
    "    offset = randint(0, len(reference) - n)\n",
    "    read = reference[offset:offset + n]\n",
    "    modifications = (\n",
    "        lambda s, x: s[:x] + choice(NUCLEOTIDES) + s[x:],  # Insertion\n",
    "        lambda s, x: \"\".join([c for i, c in enumerate(s) if i != x])  # Deletion\n",
    "    )\n",
    "    for _ in range(indel):\n",
    "        read = choice(modifications)(read, randint(0, len(read) - 1))\n",
    "    return read, offset\n",
    "\n",
    "\n",
    "read, offset = sample_read(reference, 16, 4)\n",
    "print(f\"            Read: {' ' * offset}{read}\")"
   ]
  },
  {
   "cell_type": "markdown",
   "metadata": {},
   "source": [
    "As you can see, the simulated read does not exactly match the corresponding section in the reference\n",
    "genome. That reflects how it works in real life: the differences between organisms and the errors of\n",
    "the DNA sequencing devices entail discrepancies between the reads and the reference.\n",
    "\n",
    "Let's try to align the simulated read back to the reference with the naïve approach: we'll use the\n",
    "Smith-Waterman algorithm (https://en.wikipedia.org/wiki/Smith%E2%80%93Waterman_algorithm) to find\n",
    "the best alignment between the reference and read."
   ]
  },
  {
   "cell_type": "code",
   "execution_count": 392,
   "metadata": {},
   "outputs": [
    {
     "name": "stdout",
     "output_type": "stream",
     "text": [
      "Reference genome: AGCAAATTAGCGACGCGGTCGCGGGGCCTCGTGCGCAGGCGCTTAAATCCCCGGACAGACTCGGCCTGTAGGTTGTGATGTTGAGAGGAGATAGTAGGCT\n",
      "(20, 25)\n",
      "            Read:          GCGAGCGACGGTTCGTCGGG\n",
      "       Alignment:      GCGAGCGACGGTTCGTCGGG\n"
     ]
    }
   ],
   "source": [
    "\n",
    "def smith_waterman(ref, read, match_score=2, mismatch_penalty=-1, gap_penalty=-2) -> int:\n",
    "    ref_len, read_len = len(ref), len(read)\n",
    "    dp = np.zeros((read_len + 1, ref_len + 1))  # Dynamic programming matrix.\n",
    "    max_score = 0\n",
    "    best_pos = (0, 0)\n",
    "    for i in range(1, read_len + 1):\n",
    "        for j in range(1, ref_len + 1):\n",
    "            match = dp[i - 1, j - 1] + (match_score if read[i - 1] == ref[j - 1] else mismatch_penalty)\n",
    "            delete = dp[i - 1, j] + gap_penalty\n",
    "            insert = dp[i, j - 1] + gap_penalty\n",
    "            dp[i, j] = max(0, match, delete, insert)\n",
    "            if dp[i, j] > max_score:\n",
    "                max_score = dp[i, j]\n",
    "                best_pos = (i, j)\n",
    "    print(best_pos)\n",
    "    return best_pos[1] - len(read)\n",
    "\n",
    "\n",
    "print(f\"Reference genome: {reference}\")\n",
    "read, offset = sample_read(reference, 16, 4)\n",
    "alignment = smith_waterman(reference, read)\n",
    "print(f\"            Read: {' ' * offset}{read}\")\n",
    "print(f\"       Alignment: {' ' * alignment}{read}\")"
   ]
  },
  {
   "cell_type": "markdown",
   "metadata": {},
   "source": [
    "That works, but it's **terrible** for performances! We use an N by M table to compute the algorithm,\n",
    "where N and M are the lengths of the reference genome and read, respectively."
   ]
  },
  {
   "cell_type": "markdown",
   "metadata": {},
   "source": [
    "<a id='part3'></a>\n",
    "\n",
    "## 3. Genome Annotation"
   ]
  },
  {
   "cell_type": "code",
   "execution_count": null,
   "metadata": {},
   "outputs": [],
   "source": []
  }
 ],
 "metadata": {
  "kernelspec": {
   "display_name": ".venv",
   "language": "python",
   "name": "python3"
  },
  "language_info": {
   "codemirror_mode": {
    "name": "ipython",
    "version": 3
   },
   "file_extension": ".py",
   "mimetype": "text/x-python",
   "name": "python",
   "nbconvert_exporter": "python",
   "pygments_lexer": "ipython3",
   "version": "3.11.2"
  }
 },
 "nbformat": 4,
 "nbformat_minor": 4
}
