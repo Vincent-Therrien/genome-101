{
 "cells": [
  {
   "cell_type": "markdown",
   "metadata": {},
   "source": [
    "# Whole Genome Sequencing 101\n",
    "\n",
    "This notebook goes through the main step of a whole genome sequencing (WGS) project. It presents:\n",
    "\n",
    "1. [**DNA Sequencing**](#part1) - obtain *reads* from DNA fragments.\n",
    "2. [**Genome Assembly or Mapping**](#part2) - put together a *genome* from reads.\n",
    "3. [**Genome Annotation**](#part3) - document the *functions* of the genome.\n",
    "\n",
    "**Remember**, this notebook is not a complete tutorial! It only presents the key steps of WGS to\n",
    "demonstrate their algorithmic complexity. A real bioinformatics pipeline typically does not rely\n",
    "purely on a Python script but rather executes standalone programs. To learn how to do full WGS\n",
    "pipelines, please refer to:\n",
    "\n",
    "- https://pmc.ncbi.nlm.nih.gov/articles/PMC10646344/ for *de novo* WGS (i. e. use that when\n",
    "  studying an organism or strain with no reference genome)\n",
    "- https://bmcmedgenomics.biomedcentral.com/articles/10.1186/s12920-023-01495-x for *reference-based*\n",
    "  WSG (i.e. use that when you have a reference genome for your organism / strain)\n",
    "\n",
    "This notebook uses the sequencing data available at https://pmc.ncbi.nlm.nih.gov/articles/PMC9299564/"
   ]
  },
  {
   "cell_type": "markdown",
   "metadata": {},
   "source": [
    "## Configuration\n",
    "\n",
    "Before we start, run the following cells to ensure that your environment is functional!"
   ]
  },
  {
   "cell_type": "code",
   "execution_count": 2,
   "metadata": {},
   "outputs": [],
   "source": [
    "ACCESSION_NUMBER = \"SRR10256704\"  # Influenza virus sequence reads.\n",
    "SEQUENCE_FILENAME = \"sequence.fastq\"  # Used to store the sequence in a local file.\n",
    "EMAIL = \"therrien.vincent.2@courrier.uqam.ca\"  # Not obligatory, but it is courteous to tell the NCBI who you are when downloading data :)"
   ]
  },
  {
   "cell_type": "code",
   "execution_count": 3,
   "metadata": {},
   "outputs": [],
   "source": [
    "import os\n",
    "from Bio import SeqIO\n",
    "from Bio import Entrez"
   ]
  },
  {
   "cell_type": "markdown",
   "metadata": {},
   "source": [
    "<a id='part1'></a>\n",
    "\n",
    "## 1. DNA Sequencing\n",
    "\n",
    "DNA sequencing consists in reading the "
   ]
  },
  {
   "cell_type": "code",
   "execution_count": 43,
   "metadata": {},
   "outputs": [],
   "source": [
    "def download_sequence(filename: str, accession_number: str) -> None:\n",
    "    \"\"\"Download a sequence from the NCBI.\n",
    "\n",
    "    Args:\n",
    "        filename: Name of the local file in which to write the sequence.\n",
    "        accession_number: ID of the sequence to download.\n",
    "    \"\"\"\n",
    "    Entrez.email = EMAIL\n",
    "    net_handle = Entrez.efetch(\n",
    "        db=\"sra\", id=accession_number, rettype=\"gb\", retmode=\"text\"\n",
    "    )\n",
    "    out_handle = open(filename, \"w\")\n",
    "    out_handle.write(net_handle.read().decode(\"ascii\"))\n",
    "    out_handle.close()\n",
    "    net_handle.close()"
   ]
  },
  {
   "cell_type": "code",
   "execution_count": 42,
   "metadata": {},
   "outputs": [
    {
     "name": "stdout",
     "output_type": "stream",
     "text": [
      "Downloading a sequence!\n",
      "First few lines of the downloaded file:\n",
      "\n",
      "1. Genome characterization and mutation analysis of influenza virus by NGS technology\n",
      "BioProject Accession: PRJNA576776\n",
      "ID: 576776\n",
      "\n",
      "\n"
     ]
    }
   ],
   "source": [
    "print(\"Downloading a sequence!\")\n",
    "download_sequence(SEQUENCE_FILENAME, ACCESSION_NUMBER)\n",
    "print(\"First few lines of the downloaded file:\")\n",
    "with open(SEQUENCE_FILENAME, \"r\") as f:\n",
    "    print(f.read()[:10000])\n",
    "\n",
    "#record = SeqIO.read(filename, \"fasta\")\n",
    "#print(record)"
   ]
  },
  {
   "cell_type": "markdown",
   "metadata": {},
   "source": [
    "<a id='part2'></a>\n",
    "\n",
    "## 2. Genome Assembly or Mapping"
   ]
  },
  {
   "cell_type": "code",
   "execution_count": null,
   "metadata": {},
   "outputs": [],
   "source": []
  },
  {
   "cell_type": "markdown",
   "metadata": {},
   "source": [
    "<a id='part3'></a>\n",
    "\n",
    "## 3. Genome Annotation"
   ]
  },
  {
   "cell_type": "code",
   "execution_count": null,
   "metadata": {},
   "outputs": [],
   "source": []
  }
 ],
 "metadata": {
  "kernelspec": {
   "display_name": ".venv",
   "language": "python",
   "name": "python3"
  },
  "language_info": {
   "codemirror_mode": {
    "name": "ipython",
    "version": 3
   },
   "file_extension": ".py",
   "mimetype": "text/x-python",
   "name": "python",
   "nbconvert_exporter": "python",
   "pygments_lexer": "ipython3",
   "version": "3.11.2"
  }
 },
 "nbformat": 4,
 "nbformat_minor": 4
}
