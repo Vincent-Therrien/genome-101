{
 "cells": [
  {
   "cell_type": "markdown",
   "metadata": {},
   "source": [
    "# Whole Genome Sequencing 101\n",
    "\n",
    "This notebook goes through the main step of a whole genome sequencing (WGS) project. It presents:\n",
    "\n",
    "1. [**DNA Sequencing**](#part1) - obtain *reads* from DNA fragments.\n",
    "2. [**Genome Assembly**](#part2) - put together a *genome* from reads.\n",
    "    1. [**De Novo Assembly**](#part21)\n",
    "    2. [**Reference-Based Assembly**](#part22)\n",
    "3. [**Genome Annotation**](#part3) - document the *functions* of the genome.\n",
    "\n",
    "**Remember**, this notebook is not a complete WGS tutorial! It only presents the key steps of WGS to\n",
    "demonstrate their algorithmic complexity. A real bioinformatics pipeline typically does not rely\n",
    "purely on a Python script but rather executes standalone programs. To learn how to do full WGS\n",
    "pipelines, please refer to:\n",
    "\n",
    "- https://pmc.ncbi.nlm.nih.gov/articles/PMC10646344/ for *de novo* WGS (i. e. use that when\n",
    "  studying an organism or strain with no reference genome)\n",
    "- https://bmcmedgenomics.biomedcentral.com/articles/10.1186/s12920-023-01495-x for *reference-based*\n",
    "  WSG (i.e. use that when you have a reference genome for your organism / strain)"
   ]
  },
  {
   "cell_type": "markdown",
   "metadata": {},
   "source": [
    "<a id='part1'></a>\n",
    "\n",
    "## 1. DNA Sequencing\n",
    "\n",
    "DNA sequencing consists in reading DNA fragments to obtain *reads*, which sequences of letters that\n",
    "indicate the order of base pairs in the fragment. There are three *generations* of DNA sequencing\n",
    "technologies:\n",
    "\n",
    "| Generation       | Time Frame      | Max Read Length    | Other Names                                |\n",
    "| ---------------- | --------------- | ------------------ | ------------------------------------------ |\n",
    "| First            | 1977 - present  | 800 to 1000        | Sanger sequencing  |\n",
    "| Second           | Mid 2000s - present | 50 to 300      | Next-generation sequencing (NGS), Massive parallel sequencing |\n",
    "| Third            | Late 2000s - present | 100 000       | Long-read sequencing |\n",
    "\n",
    "DNA sequencing devices and processing software produce **sequencing files**. FASTQ is a format for\n",
    "such files. For instance, the following cell is taken from the project described at\n",
    "https://pmc.ncbi.nlm.nih.gov/articles/PMC9299564/. You can download the sequencing file from the\n",
    "sequence read archive at https://www.ncbi.nlm.nih.gov/sra?term=SRR10256704.\n",
    "\n",
    "```\n",
    "@SRR10256704.1 1 length=137\n",
    "ACGCGTGATCAGCAAAAGCAGGTCAAATATATTCAATATGGAGAGAATAAAAGAGCTGAGAGATCTAATGTCGCAGTCCCGCACTCGCGAGATACTCACTAAGACCACTGTGGACCATATGGCCATCATCAAAAAAT\n",
    "+SRR10256704.1 1 length=137\n",
    "?????????????????????????????????????????????????????????????????????????????????????????????????????????????????????????????????????????\n",
    "```\n",
    "\n",
    "The fourth line (`???...`) indicates the **Phred quality score** of the corresponding nucleotides.\n",
    "The character `?` corresponds to a score of 30, which means that each nucleotide has a probability\n",
    "of around 0.001 to be incorrectly sequenced. So the quality is pretty good! You can read more about\n",
    "the quality scores at  https://en.wikipedia.org/wiki/Phred_quality_score."
   ]
  },
  {
   "cell_type": "markdown",
   "metadata": {},
   "source": [
    "## What Program to Use\n",
    "\n",
    "- FastQC (https://www.bioinformatics.babraham.ac.uk/projects/fastqc/) to visualize quality.\n",
    "- Trimmomatic (http://www.usadellab.org/cms/?page=trimmomatic) to trim low-quality extremities.\n",
    "- Trim Galore (https://www.bioinformatics.babraham.ac.uk/projects/trim_galore/) another trimmer."
   ]
  },
  {
   "cell_type": "markdown",
   "metadata": {},
   "source": [
    "## How to Obtain Sequences\n",
    "\n",
    "- To **sequence** DNA, each sequencing device manufacturer releases their own software to process\n",
    "  the data produced by the devices into sequencing files.\n",
    "- To **download** DNA sequences that have already been sequenced, you can use:\n",
    "  - The SRA Toolkit (https://github.com/ncbi/sra-tools/wiki) for sequences hosted by the NCBI (you\n",
    "    can also visit https://www.ncbi.nlm.nih.gov/sra to download sequences from a browser)\n",
    "  - The European Nucleotide Archive (https://www.ebi.ac.uk/ena/browser/home), another DNA data bank\n",
    "    from the EMBL.\n",
    "  - The DNA DataBank of Japan (DDBJ, https://www.ddbj.nig.ac.jp/index-e.html), another DNA data bank\n",
    "\n",
    "Most journals require DNA sequences used for a research paper to be deposited in a DNA data bank,\n",
    "so you can find a lot of sequences on the NCBI/EMBL/DDBJ portals!"
   ]
  },
  {
   "cell_type": "markdown",
   "metadata": {},
   "source": [
    "<a id='part2'></a>\n",
    "\n",
    "## 2. Genome Assembly\n",
    "\n",
    "DNA sequencing technologies only sequence relatively short reads (maximum 100,000 with 3rd gen).\n",
    "Human chromosomes are much longer than that - from ~47 million base pairs for chromosome 21 to ~249\n",
    "million base pairs for chromosome 1 (https://www.ncbi.nlm.nih.gov/books/NBK22266/). Ok, the\n",
    "mitochondrial chromosome is much smaller and *can* get read in one pass of a third generation\n",
    "sequencer, but that's an exception. We have to split the chromosomes into shorter fragments,\n",
    "sequence them separately, and assemble them. There are two main approaches to do that:\n",
    "\n",
    "- De novo (i.e. assemble the fragments from scratch)\n",
    "- Reference-based (i.e. align the fragments against a reference genome from a similar organism)\n",
    "\n",
    "For the sake of demonstration, let's generate a fake DNA sequence and simulate fragment reads:"
   ]
  },
  {
   "cell_type": "code",
   "execution_count": 75,
   "metadata": {},
   "outputs": [
    {
     "name": "stdout",
     "output_type": "stream",
     "text": [
      "Simulated DNA sequence:\n",
      "TGTGGGTTTTTCTCTTGTATACTTACGTTTTACCGATCTTCATCCCTACATGGGTGGGATCATGATGCAGATCCACGTCT\n",
      "\n",
      "Simulating fragment reads:\n",
      "TGTGGGTTTTTCTCTTGTATACTT\n",
      "                        ACGTTTTACCGATCTTCATCCCTACATGGGTGG\n",
      "                                                         GATCATGATGCAGATCCACGTCT\n",
      "TGTGGGTTTTTCTCTTGT\n",
      "                  ATACTTACGTTTTAC\n",
      "                                 CGATCTTCATCCCTACA\n",
      "                                                  TGGGTGGGATCATGATGCAGATCCACGTCT\n",
      "TGTGGGTTTTTCTCTTGTATACTTACGTTTTA\n",
      "                                CCGATCTTCATCCCTACATGGGTGGGATCA\n",
      "                                                              TGATGCAGATCCACGTCT\n",
      "Shuffling the reads!\n",
      "['CCGATCTTCATCCCTACATGGGTGGGATCA', 'TGGGTGGGATCATGATGCAGATCCACGTCT', 'TGTGGGTTTTTCTCTTGTATACTTACGTTTTA', 'GATCATGATGCAGATCCACGTCT', 'TGTGGGTTTTTCTCTTGTATACTT', 'ATACTTACGTTTTAC', 'TGTGGGTTTTTCTCTTGT', 'CGATCTTCATCCCTACA', 'ACGTTTTACCGATCTTCATCCCTACATGGGTGG', 'TGATGCAGATCCACGTCT']\n",
      "\n",
      "We have 10 reads for a sequence of 80 base pairs.\n"
     ]
    }
   ],
   "source": [
    "from random import choice, randint, shuffle\n",
    "\n",
    "NUCLEOTIDES = ('A', 'T', 'C', 'G')\n",
    "SEQUENCE_SIZE = 80\n",
    "READ_AVERAGE_SIZE = 25\n",
    "READ_VARIANCE = 12\n",
    "COVERAGE = 3\n",
    "MINIMUM_OVERLAP = 4\n",
    "\n",
    "\n",
    "sequence = \"\".join([choice(NUCLEOTIDES) for _ in range(SEQUENCE_SIZE)])\n",
    "print(\"Simulated DNA sequence:\")\n",
    "print(sequence)\n",
    "print()\n",
    "\n",
    "\n",
    "def simulate_reads(sequence: str, variance: int, size: int, verbose: bool = True) -> list[str]:\n",
    "    reads = []\n",
    "    if verbose:\n",
    "        print(\"Simulating fragment reads:\")\n",
    "    for _ in range(COVERAGE):\n",
    "        offset = 0\n",
    "        while offset < len(sequence):\n",
    "            delta = size + randint(-variance, variance)\n",
    "            endpoint = offset + delta\n",
    "            if endpoint > len(sequence):\n",
    "                endpoint = len(sequence)\n",
    "            reads.append(sequence[offset:endpoint])\n",
    "            if verbose:\n",
    "                print(f\"{' ' * offset}{reads[-1]}\")\n",
    "            offset += delta\n",
    "\n",
    "    if verbose:\n",
    "        print(\"Shuffling the reads!\")\n",
    "    shuffle(reads)\n",
    "    if verbose:\n",
    "        print(reads)\n",
    "        print()\n",
    "    return reads\n",
    "\n",
    "\n",
    "reads = simulate_reads(sequence, READ_VARIANCE, READ_AVERAGE_SIZE)\n",
    "print(f\"We have {len(reads)} reads for a sequence of {SEQUENCE_SIZE} base pairs.\")"
   ]
  },
  {
   "cell_type": "markdown",
   "metadata": {},
   "source": [
    "<a id='part21'></a>\n",
    "\n",
    "## 2.1 De Novo Assembly\n",
    "\n",
    "De novo assembly consists in stitching all reads together by finding their overlaps. Let's try a\n",
    "naïve approach: each fragment will be compared to all other fragments."
   ]
  },
  {
   "cell_type": "code",
   "execution_count": 71,
   "metadata": {},
   "outputs": [],
   "source": [
    "def naive_contig(reads: list[str], minimum_overlap: int) -> list[tuple]:\n",
    "    \"\"\"Elaborate contigs from the overlaps of the provided reads.\n",
    "\n",
    "    E.g.:\n",
    "        read:      AAAACCCC----\n",
    "        candidate: ----CCCCTTTT\n",
    "        overlap:       CCCC\n",
    "        sequence:  AAAACCCCTTTT\n",
    "    \"\"\"\n",
    "    contigs = []\n",
    "    for i, read in enumerate(reads):\n",
    "        for candidate in reads[i:]:\n",
    "            if candidate == read:\n",
    "                continue  # Do not compare a read to itself!\n",
    "            overlap_scores = {}\n",
    "            n_iterations = len(read) + len(candidate)\n",
    "            for overlap_index in range(1, n_iterations):\n",
    "                a = len(read) - overlap_index\n",
    "                b = a + len(candidate)\n",
    "                X = read[max(a, 0):min(b, len(read))]\n",
    "                b = overlap_index\n",
    "                a = overlap_index - len(read)\n",
    "                Y = candidate[max(a, 0):min(b, len(candidate))]\n",
    "                score = sum([1 if x == y else -1 for (x, y) in zip(X, Y)])\n",
    "                overlap_scores[score] = overlap_index\n",
    "            highest_overlap = max(overlap_scores)\n",
    "            if highest_overlap >= minimum_overlap:\n",
    "                offset = overlap_scores[highest_overlap]\n",
    "                a = f\"{'-' * (offset - len(read))}{read}{'-' * (len(candidate) - offset)}\"\n",
    "                b = f\"{'-' * (len(read) - offset)}{candidate}{'-' * (offset - len(candidate))}\"\n",
    "                contig = []\n",
    "                for x, y in zip(a, b):\n",
    "                    contig.append(x if x != '-' else y)\n",
    "                contig = \"\".join(contig)\n",
    "                if len(contig) > len(read) and len(contig) > len(candidate):\n",
    "                    contigs.append((read, candidate, offset, len(contig), contig, highest_overlap))\n",
    "    return contigs\n",
    "\n",
    "\n",
    "def assemble_with_naive_de_novo(reads: list, verbose: bool = True) -> str:\n",
    "    current_contigs = reads\n",
    "    overlap = 6\n",
    "    for iteration in range(10):\n",
    "        if verbose:\n",
    "            print(f\"Iteration {iteration}: {current_contigs}\")\n",
    "        initial_count = len(current_contigs)\n",
    "        tentative = naive_contig(current_contigs, overlap)\n",
    "        if not tentative:\n",
    "            break\n",
    "        contig_data = tentative\n",
    "        current_contigs = [c[4] for c in contig_data]\n",
    "        if len(current_contigs) > 32:\n",
    "            current_contigs = current_contigs[:32]\n",
    "        current_contigs = list(set(current_contigs))\n",
    "        if len(current_contigs) in (1, initial_count):\n",
    "            break\n",
    "    return sorted(current_contigs, key = lambda x: len(x), reverse = True)[0]"
   ]
  },
  {
   "cell_type": "code",
   "execution_count": 76,
   "metadata": {},
   "outputs": [
    {
     "name": "stdout",
     "output_type": "stream",
     "text": [
      "Iteration 0: ['CCGATCTTCATCCCTACATGGGTGGGATCA', 'TGGGTGGGATCATGATGCAGATCCACGTCT', 'TGTGGGTTTTTCTCTTGTATACTTACGTTTTA', 'GATCATGATGCAGATCCACGTCT', 'TGTGGGTTTTTCTCTTGTATACTT', 'ATACTTACGTTTTAC', 'TGTGGGTTTTTCTCTTGT', 'CGATCTTCATCCCTACA', 'ACGTTTTACCGATCTTCATCCCTACATGGGTGG', 'TGATGCAGATCCACGTCT']\n",
      "Iteration 1: ['ACGTTTTACCGATCTTCATCCCTACATGGGTGGGATCA', 'TGTGGGTTTTTCTCTTGTATACTTACGTTTTAC', 'CCGATCTTCATCCCTACATGGGTGGGATCATGATGCAGATCCACGTCT', 'ATACTTACGTTTTACCGATCTTCATCCCTACATGGGTGG', 'ACGTTTTACCGATCTTCATCCCTACATGGGTGGGATCATGATGCAGATCCACGTCT', 'TGTGGGTTTTTCTCTTGTATACTTACGTTTTACCGATCTTCATCCCTACATGGGTGG']\n",
      "Assembled sequence: TGTGGGTTTTTCTCTTGTATACTTACGTTTTACCGATCTTCATCCCTACATGGGTGGGATCATGATGCAGATCCACGTCT\n",
      "Original sequence:  TGTGGGTTTTTCTCTTGTATACTTACGTTTTACCGATCTTCATCCCTACATGGGTGGGATCATGATGCAGATCCACGTCT\n"
     ]
    }
   ],
   "source": [
    "assembly = assemble_with_naive_de_novo(reads)\n",
    "print(f\"Assembled sequence: {assembly}\")\n",
    "print(f\"Original sequence:  {sequence}\")"
   ]
  },
  {
   "cell_type": "markdown",
   "metadata": {},
   "source": [
    "Ok it doesn't *always* converge to the right sequence because the reads are short and may overlap to\n",
    "the wrong sequence, but this approach assembles most of sequence. How fast is it?"
   ]
  },
  {
   "cell_type": "code",
   "execution_count": 34,
   "metadata": {},
   "outputs": [
    {
     "data": {
      "image/png": "[encoded data removed]",
      "text/plain": [
       "<Figure size 640x480 with 1 Axes>"
      ]
     },
     "metadata": {},
     "output_type": "display_data"
    }
   ],
   "source": [
    "import time\n",
    "import matplotlib.pyplot as plt\n",
    "\n",
    "\n",
    "def benchmark_assembly(n: int) -> float:\n",
    "    sequence = \"\".join([choice(NUCLEOTIDES) for _ in range(n)])\n",
    "    reads = simulate_reads(sequence, READ_VARIANCE, READ_AVERAGE_SIZE, False)\n",
    "    start = time.time()\n",
    "    try:\n",
    "        assemble_with_naive_de_novo(reads, False)\n",
    "    except:\n",
    "        print(f\"Assembly with N = {n} failed.\")\n",
    "    end = time.time()\n",
    "    return end - start\n",
    "\n",
    "\n",
    "fig, ax = plt.subplots()\n",
    "N = range(32, 90)\n",
    "durations = [benchmark_assembly(n) for n in N]\n",
    "ax.plot(N, durations)\n",
    "ax.set(xlabel='Number of data points', ylabel='Duration (s)')\n",
    "plt.show()"
   ]
  },
  {
   "cell_type": "markdown",
   "metadata": {},
   "source": [
    "😱 it runs in O(N<sup>2</sup>) time! That's no surprise, the number of comparisons increases\n",
    "quadratically with the number of reads. If you wonder why the duration yoyos throughout the tests,\n",
    "it's because, since the fragments are randomly split, they sometimes happen to be easier to\n",
    "assemble.\n",
    "\n",
    "Imagine assembling millions of reads like that! It's way too inefficient, so we'll see two\n",
    "algorithms that can speed things up: overlap layout consensus (OLC) and De Bruijn graphs (DBG).\n",
    "Check out https://ocw.mit.edu/courses/7-91j-foundations-of-computational-and-systems-biology-spring-2014/e885f0eb376ea6c2045eb9d8847f106f_MIT7_91JS14_Lecture6.pdf\n",
    "for a more thorough discussion.\n",
    "\n",
    "The OLC algorithm comprises three steps:\n",
    "\n",
    "- Build an **overlap** graph (function `overlap_graph`)\n",
    "- Reconstruct contigs from the graph - this is called **layout**\n",
    "- Fix the errors and gaps by comparing the contigs - this is called **consensus** (not shown here)"
   ]
  },
  {
   "cell_type": "code",
   "execution_count": 248,
   "metadata": {},
   "outputs": [],
   "source": [
    "import rustworkx as rx\n",
    "from rustworkx.visualization import mpl_draw\n",
    "\n",
    "\n",
    "def prune_unconnected_nodes(G: rx.PyDiGraph) -> None:\n",
    "    to_remove = []\n",
    "    for i in G.node_indices():\n",
    "        if not G.in_edges(i) and not G.out_edges(i):\n",
    "            to_remove.append(i)\n",
    "    for r in to_remove:\n",
    "        G.remove_node(r)\n",
    "\n",
    "\n",
    "def overlap_graph(reads: list[str], minimum_overlap: int = 3) -> rx.PyDiGraph:\n",
    "    graph = rx.PyDiGraph()\n",
    "    nodes = []\n",
    "    for read in reads:\n",
    "        nodes.append(graph.add_node(read))\n",
    "    for n in range(len(graph)):\n",
    "        N = graph[n]\n",
    "        for m in range(len(graph)):\n",
    "            if n == m:\n",
    "                continue\n",
    "            M = graph[m]\n",
    "            best = 0\n",
    "            for overlap in range(minimum_overlap, len(N) + 1):\n",
    "                N_suffix = N[-overlap:]\n",
    "                M_prefix = M[:overlap]\n",
    "                if N_suffix == M_prefix:\n",
    "                    best = overlap\n",
    "            if best:\n",
    "                graph.add_edge(n, m, -best)\n",
    "    prune_unconnected_nodes(graph)\n",
    "    return graph\n",
    "\n",
    "\n",
    "def find_sources(G: rx.PyDiGraph) -> list[int]:\n",
    "    sources = []\n",
    "    for i in G.node_indices():\n",
    "        if not G.in_edges(i):\n",
    "            sources.append(i)\n",
    "    return sources\n",
    "\n",
    "\n",
    "def find_sinks(G: rx.PyDiGraph) -> list[int]:\n",
    "    sinks = []\n",
    "    for i in G.node_indices():\n",
    "        if not G.out_edges(i):\n",
    "            sinks.append(i)\n",
    "    return sinks\n",
    "\n",
    "\n",
    "def overlap_layout_consensus_contig(reads: list[str], minimum_overlap: int) -> list[tuple]:\n",
    "    \"\"\"Elaborate contigs with OLC, which consists in constructing a graph\n",
    "    directly from reads.\n",
    "    \"\"\"\n",
    "    G = overlap_graph(reads, minimum_overlap)\n",
    "    sources = find_sources(G)\n",
    "    sinks = find_sinks(G)\n",
    "    # Heuristic 1: Pick the longest source.\n",
    "    source = sources[0]\n",
    "    for s in sources[1:]:\n",
    "        if len(G[s]) > len(G[source]):\n",
    "            source = s\n",
    "    # Heuristic 2: Find the shortest path through greedy search.\n",
    "    path = [source]\n",
    "    overlaps = [0]\n",
    "    while True:\n",
    "        try:\n",
    "            edges = list(G.out_edges(path[-1]))\n",
    "            edges = sorted(edges, key=lambda x: x[-1])\n",
    "            edge = sorted(edges, key=lambda x: len(G[x[1]]), reverse=True)[0]\n",
    "            path.append(edge[1])\n",
    "            overlaps.append(edge[2])\n",
    "        except:\n",
    "            break\n",
    "        if path[-1] in sinks:\n",
    "            break\n",
    "    # Reconstruct the sequence.\n",
    "    sequence = \"\"\n",
    "    for p, o in zip(path, overlaps):\n",
    "        sequence += G[p][-o:]\n",
    "    return sequence\n",
    "\n",
    "\n",
    "def view_graph(G: rx.PyDiGraph, s: int = 12) -> None:\n",
    "    figure, _ = plt.subplots()\n",
    "    mpl_draw(\n",
    "        G,\n",
    "        with_labels=True,\n",
    "        labels=str,\n",
    "        edge_labels=str,\n",
    "        node_color=[0.75, 0.75, 1],\n",
    "        node_size=500\n",
    "    )\n",
    "    figure.set_figwidth(s)\n",
    "    figure.set_figheight(s)\n",
    "    plt.show()"
   ]
  },
  {
   "cell_type": "markdown",
   "metadata": {},
   "source": [
    "Let's try it out with a simple example:"
   ]
  },
  {
   "cell_type": "code",
   "execution_count": 251,
   "metadata": {},
   "outputs": [
    {
     "name": "stdout",
     "output_type": "stream",
     "text": [
      "Original sequence: AAAACCCCTTTT\n",
      "Overlap graph:\n"
     ]
    },
    {
     "data": {
      "image/png": "[encoded data removed]",
      "text/plain": [
       "<Figure size 800x800 with 1 Axes>"
      ]
     },
     "metadata": {},
     "output_type": "display_data"
    },
    {
     "name": "stdout",
     "output_type": "stream",
     "text": [
      "Layout assembly:   AAAACCCCTTTT\n"
     ]
    }
   ],
   "source": [
    "print(\"Original sequence: AAAACCCCTTTT\")\n",
    "reads = (\"AAAACCCC\", \"CCCCTT\", \"CCTTTT\", \"AAAA\", \"CCC\")\n",
    "print(\"Overlap graph:\")\n",
    "G = overlap_graph(reads, 2)\n",
    "view_graph(G, 8)\n",
    "s = overlap_layout_consensus_contig(reads, 2)\n",
    "print(f\"Layout assembly:   {s}\")"
   ]
  },
  {
   "cell_type": "markdown",
   "metadata": {},
   "source": [
    "Ok, let's try with a simulated sequence:"
   ]
  },
  {
   "cell_type": "code",
   "execution_count": 257,
   "metadata": {},
   "outputs": [
    {
     "name": "stdout",
     "output_type": "stream",
     "text": [
      "Original sequence: GGGCATTACTACAAGCGCAGCTACTTGATCGTTGATCGCAACTCAGGAATGACACGACTATGTT\n",
      "Simulating fragment reads:\n",
      "GGGCATTACTACAAGCGCAGCTACTTGATC\n",
      "                              GTTGATCGCAACTCAGGAATGACA\n",
      "                                                      CGACTATGTT\n",
      "GGGCATTACTACAAG\n",
      "               CGCAGCTACTTGATCGTTGATCGCAACTCAGG\n",
      "                                               AATGACACGACTATGTT\n",
      "GGGCATTACTACAAGCGCAGCTAC\n",
      "                        TTGATCGTTGATC\n",
      "                                     GCAACTCAGGAATGACACGACTATGTT\n",
      "Shuffling the reads!\n",
      "['CGACTATGTT', 'TTGATCGTTGATC', 'CGCAGCTACTTGATCGTTGATCGCAACTCAGG', 'GCAACTCAGGAATGACACGACTATGTT', 'AATGACACGACTATGTT', 'GGGCATTACTACAAGCGCAGCTACTTGATC', 'GTTGATCGCAACTCAGGAATGACA', 'GGGCATTACTACAAG', 'GGGCATTACTACAAGCGCAGCTAC']\n",
      "\n",
      "Reconstructing the sequence with OLC:\n",
      "GGGCATTACTACAAGCGCAGCTACTTGATCGTTGATCGCAACTCAGGAATGACACGACTATGTT\n"
     ]
    }
   ],
   "source": [
    "sequence = \"\".join([choice(NUCLEOTIDES) for _ in range(64)])\n",
    "print(f\"Original sequence: {sequence}\")\n",
    "reads = simulate_reads(sequence, 12, 24)\n",
    "print(\"Reconstructing the sequence with OLC:\")\n",
    "G = overlap_graph(reads, 3)\n",
    "s = overlap_layout_consensus_contig(reads, 6)\n",
    "print(s)"
   ]
  },
  {
   "cell_type": "markdown",
   "metadata": {},
   "source": [
    "Pretty good! But it doesn't always converge because of the imperfect heuristics. Also, constructing\n",
    "the graph is time-consuming. The function `overlap_graph` uses pairwise comparisons, so it takes\n",
    "O(N<sup>2</sup>) time. It's possible to optimize it by binning the reads into categories based on\n",
    "their prefix and suffix to avoid having to compute some alignments. Also, the layout (i.e.\n",
    "reconstructing the sequence from the graph) is fast. So OLC is definitely an improvement over the\n",
    "naïve approach, but it is most applicable to situations in which we have a few long reads, as with\n",
    "third generation sequencing. In second generation sequencing, the reads are so numerous that\n",
    "building the overlap graph is expensive.\n",
    "\n",
    "An algorithm to assemble a very large number of reads is the De Bruijn graph."
   ]
  },
  {
   "cell_type": "code",
   "execution_count": null,
   "metadata": {},
   "outputs": [],
   "source": [
    "def de_bruijn_contig(reads: list[str], minimum_overlap: int) -> list[tuple]:\n",
    "    \"\"\"Elaborate contigs with a De Bruijn graph, which consists in building\n",
    "    a graph from K-mers and discarding reads.\n",
    "    \"\"\"\n",
    "    pass"
   ]
  },
  {
   "cell_type": "markdown",
   "metadata": {},
   "source": [
    "<a id='part22'></a>\n",
    "\n",
    "## 2.2 Reference-Based Assembly"
   ]
  },
  {
   "cell_type": "markdown",
   "metadata": {},
   "source": [
    "<a id='part3'></a>\n",
    "\n",
    "## 3. Genome Annotation"
   ]
  },
  {
   "cell_type": "code",
   "execution_count": null,
   "metadata": {},
   "outputs": [],
   "source": []
  }
 ],
 "metadata": {
  "kernelspec": {
   "display_name": ".venv",
   "language": "python",
   "name": "python3"
  },
  "language_info": {
   "codemirror_mode": {
    "name": "ipython",
    "version": 3
   },
   "file_extension": ".py",
   "mimetype": "text/x-python",
   "name": "python",
   "nbconvert_exporter": "python",
   "pygments_lexer": "ipython3",
   "version": "3.11.2"
  }
 },
 "nbformat": 4,
 "nbformat_minor": 4
}
